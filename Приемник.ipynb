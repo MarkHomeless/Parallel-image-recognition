{
 "cells": [
  {
   "cell_type": "code",
   "execution_count": null,
   "metadata": {},
   "outputs": [],
   "source": [
    "import socket "
   ]
  },
  {
   "cell_type": "code",
   "execution_count": null,
   "metadata": {},
   "outputs": [],
   "source": [
    "class Reciever_SOCKET:\n",
    "    '''\n",
    "    Сlass responsible for receiving messages over the network\n",
    "    It uses the TCP Protocol for data transmission\n",
    "    Default IP and Port - local host(127.0.0.1) and port 5001\n",
    "    Default timeout - 5 second\n",
    "    '''\n",
    "    def __init__(self,ip = '127.0.0.1', port = 5001, timeout =5):\n",
    "        '''\n",
    "        Initialize the reciever object next parameters:\n",
    "            -ip - IP-adress of the server to connect to\n",
    "            -port - the port to connect to\n",
    "            -timeout - time of waining of connection \n",
    "        '''\n",
    "        self.ip = ip\n",
    "        self.port = port\n",
    "        self.timeout = timeout\n",
    "    def start(self):\n",
    "        '''\n",
    "        Method for to establish a connection, get data and display it on the screen\n",
    "        '''\n",
    "        with socket.socket() as sock:#Контекстный менеджер для соединения(разыв соединения происходит автоматически)\n",
    "            sock.bind((self.ip, self.port))\n",
    "            sock.listen()\n",
    "            while True:\n",
    "                conn, addr = sock.accept()\n",
    "                conn.settimeout(self.timeout)\n",
    "                with conn:\n",
    "                    try:\n",
    "                        data = conn.recv(1024)\n",
    "                        print(data)\n",
    "                    except socket.timeout:\n",
    "                        print('close connection by timeout')\n",
    "                        break\n",
    "                    if not data:\n",
    "                        break\n",
    "    def stop(self):\n",
    "        self.sock.stop()"
   ]
  },
  {
   "cell_type": "code",
   "execution_count": null,
   "metadata": {
    "scrolled": true
   },
   "outputs": [],
   "source": [
    "reciever = Reciever_SOCKET()\n",
    "reciever.start()"
   ]
  },
  {
   "cell_type": "code",
   "execution_count": null,
   "metadata": {},
   "outputs": [],
   "source": []
  }
 ],
 "metadata": {
  "kernelspec": {
   "display_name": "Python 3",
   "language": "python",
   "name": "python3"
  },
  "language_info": {
   "codemirror_mode": {
    "name": "ipython",
    "version": 3
   },
   "file_extension": ".py",
   "mimetype": "text/x-python",
   "name": "python",
   "nbconvert_exporter": "python",
   "pygments_lexer": "ipython3",
   "version": "3.7.4"
  }
 },
 "nbformat": 4,
 "nbformat_minor": 2
}

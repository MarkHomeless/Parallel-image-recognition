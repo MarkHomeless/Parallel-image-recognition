{
 "cells": [
  {
   "cell_type": "code",
   "execution_count": null,
   "metadata": {},
   "outputs": [],
   "source": [
    "import threading\n",
    "import datetime\n",
    "import time\n",
    "import numpy as np\n",
    "import cv2 \n",
    "import socket \n",
    "from queue import Queue, Empty\n",
    "import keyboard\n",
    "#Подключение собственных модулей:\n",
    "from sender import Sender_SOCKET\n",
    "from camera import Videocamera\n",
    "from detector import detect_cloude, viewImage"
   ]
  },
  {
   "cell_type": "code",
   "execution_count": null,
   "metadata": {},
   "outputs": [],
   "source": [
    "if __name__ == '__main__':#Если файл является исполняемым\n",
    "    queue_images = Queue() #Очередь для изображений с камеры\n",
    "    queue_segments_of_images = Queue() #Очередь для сегментов изображений\n",
    "    history_of_results_detecting = list() #История результатов обработки\n",
    "    camera = Videocamera(1, 'http://192.168.0.100:8080/video', queue_images)\n",
    "    sender = Sender_SOCKET()\n",
    "    while True :\n",
    "        if keyboard.is_pressed('q'):#Кнопка для выхода из цикла\n",
    "            break\n",
    "        results_detecting = list()\n",
    "        thread_main = threading.Thread(target=camera.get_frame, args=[], daemon = True)\n",
    "        thread_main.start() \n",
    "        try:\n",
    "            image = np.array(queue_images.get())\n",
    "        except:\n",
    "            break\n",
    "        center_x = image.shape[0]//2\n",
    "        center_y = image.shape[1]//2\n",
    "        #Сегментирование кадра\n",
    "        queue_segments_of_images.put_nowait(image[0:center_x, 0:center_y])\n",
    "        queue_segments_of_images.put_nowait(image[center_x: , center_y: ])\n",
    "        queue_segments_of_images.put_nowait(image[0:center_x, center_y: ])\n",
    "        queue_segments_of_images.put_nowait(image[center_x: , 0:center_y:])\n",
    "\n",
    "        thread_workers =[\n",
    "            threading.Thread(target= detect_cloude, args = [queue_segments_of_images, results_detecting], name = 'a', daemon = True), \n",
    "            threading.Thread(target= detect_cloude, args = [queue_segments_of_images, results_detecting], name = 'b', daemon = True),\n",
    "            threading.Thread(target= detect_cloude, args = [queue_segments_of_images, results_detecting], name = 'c', daemon = True),\n",
    "            threading.Thread(target= detect_cloude, args = [queue_segments_of_images, results_detecting], name = 'd', daemon = True)\n",
    "        ]\n",
    "\n",
    "        for thread in thread_workers:\n",
    "            thread.start()\n",
    "            time.sleep(1)\n",
    "        thread_main.join()\n",
    "        for thread in thread_workers:\n",
    "            thread.join()\n",
    "            print(\"Thread {} complete it's works\".format(thread.name))\n",
    "        total_area = sum(results_detecting)\n",
    "        if total_area>13000:\n",
    "            sender.send('Dull')\n",
    "        elif 2000<total_area<13000:\n",
    "            sender.send('Cloudy')\n",
    "        else:\n",
    "            sender.send('Sunny')\n",
    "        history_of_results_detecting.extend(results_detecting)\n",
    "        print('*'*30)\n",
    "        time.sleep(20)\n",
    "    camera.stop()\n",
    "    sender.close()\n"
   ]
  },
  {
   "cell_type": "code",
   "execution_count": null,
   "metadata": {},
   "outputs": [],
   "source": []
  },
  {
   "cell_type": "code",
   "execution_count": null,
   "metadata": {},
   "outputs": [],
   "source": []
  }
 ],
 "metadata": {
  "kernelspec": {
   "display_name": "Python 3",
   "language": "python",
   "name": "python3"
  },
  "language_info": {
   "codemirror_mode": {
    "name": "ipython",
    "version": 3
   },
   "file_extension": ".py",
   "mimetype": "text/x-python",
   "name": "python",
   "nbconvert_exporter": "python",
   "pygments_lexer": "ipython3",
   "version": "3.7.4"
  }
 },
 "nbformat": 4,
 "nbformat_minor": 2
}
